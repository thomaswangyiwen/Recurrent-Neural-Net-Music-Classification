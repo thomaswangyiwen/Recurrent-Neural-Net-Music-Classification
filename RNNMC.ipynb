{
 "metadata": {
  "language": "lua",
  "name": "",
  "signature": "sha256:969b71563bc7b28adc510e2590920a333601a80b189d651713c3d87706ea4792"
 },
 "nbformat": 3,
 "nbformat_minor": 0,
 "worksheets": [
  {
   "cells": [
    {
     "cell_type": "code",
     "collapsed": false,
     "input": [
      "local torch = require 'torch'\n",
      "local nn = require \"nn\"\n",
      "local midi = require 'MIDI'\n",
      "require \"optim\"\n",
      "require \"midiToBinaryVector\"\n",
      "require 'DatasetGenerator'\n",
      "require 'lfs'"
     ],
     "language": "python",
     "metadata": {},
     "outputs": [],
     "prompt_number": 1
    },
    {
     "cell_type": "code",
     "collapsed": false,
     "input": [
      "--Step 1: Gather our training and testing data - trainData and testData contain a table of Songs and Labels\n",
      "\n",
      "trainData, testData, classes = GetTrainAndTestData(\"./miniMusic\", .6)\n",
      "--print (table.getn(obj.Songs))\n",
      "--print(classes)\n",
      "--print(trainData)"
     ],
     "language": "python",
     "metadata": {},
     "outputs": [
      {
       "metadata": {},
       "output_type": "pyout",
       "prompt_number": 2,
       "text": [
        "./miniMusic/classical/013705b_.mid\t\n"
       ]
      },
      {
       "metadata": {},
       "output_type": "pyout",
       "prompt_number": 2,
       "text": [
        "./miniMusic/classical/013705ch.mid\t\n"
       ]
      },
      {
       "metadata": {},
       "output_type": "pyout",
       "prompt_number": 2,
       "text": [
        "./miniMusic/classical/013806b_.mid\t\n"
       ]
      },
      {
       "metadata": {},
       "output_type": "pyout",
       "prompt_number": 2,
       "text": [
        "./miniMusic/classical/013906b_.mid\t\n"
       ]
      },
      {
       "metadata": {},
       "output_type": "pyout",
       "prompt_number": 2,
       "text": [
        "./miniMusic/classical/014001b_.mid\t\n"
       ]
      },
      {
       "metadata": {},
       "output_type": "pyout",
       "prompt_number": 2,
       "text": [
        "./miniMusic/classical/015105b_.mid\t\n"
       ]
      },
      {
       "metadata": {},
       "output_type": "pyout",
       "prompt_number": 2,
       "text": [
        "./miniMusic/classical/015301b_.mid\t\n"
       ]
      },
      {
       "metadata": {},
       "output_type": "pyout",
       "prompt_number": 2,
       "text": [
        "./miniMusic/classical/015305b_.mid\t\n"
       ]
      },
      {
       "metadata": {},
       "output_type": "pyout",
       "prompt_number": 2,
       "text": [
        "./miniMusic/classical/015309b_.mid\t\n"
       ]
      },
      {
       "metadata": {},
       "output_type": "pyout",
       "prompt_number": 2,
       "text": [
        "./miniMusic/classical/015403b_.mid\t\n"
       ]
      },
      {
       "metadata": {},
       "output_type": "pyout",
       "prompt_number": 2,
       "text": [
        "./miniMusic/classical/015408b_.mid\t\n"
       ]
      },
      {
       "metadata": {},
       "output_type": "pyout",
       "prompt_number": 2,
       "text": [
        "./miniMusic/classical/015505b_.mid\t\n"
       ]
      },
      {
       "metadata": {},
       "output_type": "pyout",
       "prompt_number": 2,
       "text": [
        "./miniMusic/classical/015606b_.mid\t\n"
       ]
      },
      {
       "metadata": {},
       "output_type": "pyout",
       "prompt_number": 2,
       "text": [
        "./miniMusic/classical/015705b_.mid\t\n",
        "./miniMusic/classical/015804b_.mid\t\n"
       ]
      },
      {
       "metadata": {},
       "output_type": "pyout",
       "prompt_number": 2,
       "text": [
        "./miniMusic/classical/015905b_.mid\t\n"
       ]
      },
      {
       "metadata": {},
       "output_type": "pyout",
       "prompt_number": 2,
       "text": [
        "./miniMusic/classical/016106b_.mid\t\n"
       ]
      },
      {
       "metadata": {},
       "output_type": "pyout",
       "prompt_number": 2,
       "text": [
        "./miniMusic/classical/016206blpz.mid\t\n",
        "./miniMusic/classical/016406b_.mid\t\n"
       ]
      },
      {
       "metadata": {},
       "output_type": "pyout",
       "prompt_number": 2,
       "text": [
        "./miniMusic/classical/016506b_.mid\t\n",
        "./miniMusic/classical/016606b_.mid\t\n"
       ]
      },
      {
       "metadata": {},
       "output_type": "pyout",
       "prompt_number": 2,
       "text": [
        "./miniMusic/classical/016806b_.mid\t\n"
       ]
      },
      {
       "metadata": {},
       "output_type": "pyout",
       "prompt_number": 2,
       "text": [
        "./miniMusic/classical/016907b_.mid\t\n"
       ]
      },
      {
       "metadata": {},
       "output_type": "pyout",
       "prompt_number": 2,
       "text": [
        "./miniMusic/classical/017106b_.mid\t\n"
       ]
      },
      {
       "metadata": {},
       "output_type": "pyout",
       "prompt_number": 2,
       "text": [
        "./miniMusic/classical/017206b_.mid\t\n"
       ]
      },
      {
       "metadata": {},
       "output_type": "pyout",
       "prompt_number": 2,
       "text": [
        "./miniMusic/classical/017206ch.mid\t\n"
       ]
      },
      {
       "metadata": {},
       "output_type": "pyout",
       "prompt_number": 2,
       "text": [
        "./miniMusic/classical/017206vn.mid\t\n"
       ]
      },
      {
       "metadata": {},
       "output_type": "pyout",
       "prompt_number": 2,
       "text": [
        "./miniMusic/classical/017405b_.mid\t\n"
       ]
      },
      {
       "metadata": {},
       "output_type": "pyout",
       "prompt_number": 2,
       "text": [
        "./miniMusic/classical/017507b_.mid\t\n"
       ]
      },
      {
       "metadata": {},
       "output_type": "pyout",
       "prompt_number": 2,
       "text": [
        "./miniMusic/classical/017507ch.mid\t\n"
       ]
      },
      {
       "metadata": {},
       "output_type": "pyout",
       "prompt_number": 2,
       "text": [
        "./miniMusic/classical/017606b_.mid\t\n"
       ]
      },
      {
       "metadata": {},
       "output_type": "pyout",
       "prompt_number": 2,
       "text": [
        "./miniMusic/classical/017705b_.mid\t\n"
       ]
      },
      {
       "metadata": {},
       "output_type": "pyout",
       "prompt_number": 2,
       "text": [
        "./miniMusic/classical/017807b_.mid\t\n"
       ]
      },
      {
       "metadata": {},
       "output_type": "pyout",
       "prompt_number": 2,
       "text": [
        "./miniMusic/classical/017906b_.mid\t\n",
        "./miniMusic/classical/018007b_.mid\t\n"
       ]
      },
      {
       "metadata": {},
       "output_type": "pyout",
       "prompt_number": 2,
       "text": [
        "./miniMusic/classical/018305b_.mid\t\n"
       ]
      },
      {
       "metadata": {},
       "output_type": "pyout",
       "prompt_number": 2,
       "text": [
        "./miniMusic/classical/018405b_.mid\t\n"
       ]
      },
      {
       "metadata": {},
       "output_type": "pyout",
       "prompt_number": 2,
       "text": [
        "./miniMusic/classical/018405unk.mid\t\n"
       ]
      },
      {
       "metadata": {},
       "output_type": "pyout",
       "prompt_number": 2,
       "text": [
        "./miniMusic/classical/018506b_.mid\t\n"
       ]
      },
      {
       "metadata": {},
       "output_type": "pyout",
       "prompt_number": 2,
       "text": [
        "./miniMusic/classical/018707b_.mid\t\n"
       ]
      },
      {
       "metadata": {},
       "output_type": "pyout",
       "prompt_number": 2,
       "text": [
        "./miniMusic/classical/018806b_.mid\t\n",
        "./miniMusic/classical/019007b_.mid\t\n"
       ]
      },
      {
       "metadata": {},
       "output_type": "pyout",
       "prompt_number": 2,
       "text": [
        "./miniMusic/jazz/134-Its The Talk Of The Town (solo).mid\t\n"
       ]
      },
      {
       "metadata": {},
       "output_type": "pyout",
       "prompt_number": 2,
       "text": [
        "./miniMusic/jazz/135-Just A Gigolo.mid\t\n"
       ]
      },
      {
       "metadata": {},
       "output_type": "pyout",
       "prompt_number": 2,
       "text": [
        "./miniMusic/jazz/136-Just Friends (solo).mid\t\n"
       ]
      },
      {
       "metadata": {},
       "output_type": "pyout",
       "prompt_number": 2,
       "text": [
        "./miniMusic/jazz/137-Just Friends (trio).mid\t\n"
       ]
      },
      {
       "metadata": {},
       "output_type": "pyout",
       "prompt_number": 2,
       "text": [
        "./miniMusic/jazz/138-Just You Mark.mid\t\n"
       ]
      },
      {
       "metadata": {},
       "output_type": "pyout",
       "prompt_number": 2,
       "text": [
        "./miniMusic/jazz/139-King And I.mid\t\n"
       ]
      },
      {
       "metadata": {},
       "output_type": "pyout",
       "prompt_number": 2,
       "text": [
        "./miniMusic/jazz/140-Ladies In Mercedes.mid\t\n"
       ]
      },
      {
       "metadata": {},
       "output_type": "pyout",
       "prompt_number": 2,
       "text": [
        "./miniMusic/jazz/141-Lady Be Good.mid\t\n"
       ]
      },
      {
       "metadata": {},
       "output_type": "pyout",
       "prompt_number": 2,
       "text": [
        "./miniMusic/jazz/142-Laura.mid\t\n"
       ]
      },
      {
       "metadata": {},
       "output_type": "pyout",
       "prompt_number": 2,
       "text": [
        "./miniMusic/jazz/143-Little Girl Blue.mid\t\n"
       ]
      },
      {
       "metadata": {},
       "output_type": "pyout",
       "prompt_number": 2,
       "text": [
        "./miniMusic/jazz/144-Long Ago And Far Away - 3 Versions.mid\t\n"
       ]
      },
      {
       "metadata": {},
       "output_type": "pyout",
       "prompt_number": 2,
       "text": [
        "./miniMusic/jazz/145-Look For The Silver Lining.mid\t\n"
       ]
      },
      {
       "metadata": {},
       "output_type": "pyout",
       "prompt_number": 2,
       "text": [
        "./miniMusic/jazz/146-Louisiana.mid\t\n"
       ]
      },
      {
       "metadata": {},
       "output_type": "pyout",
       "prompt_number": 2,
       "text": [
        "./miniMusic/jazz/148-Love Letters.mid\t\n"
       ]
      },
      {
       "metadata": {},
       "output_type": "pyout",
       "prompt_number": 2,
       "text": [
        "./miniMusic/jazz/149-Love Walked In.mid\t\n"
       ]
      },
      {
       "metadata": {},
       "output_type": "pyout",
       "prompt_number": 2,
       "text": [
        "./miniMusic/jazz/150-Love Walked.mid\t\n"
       ]
      },
      {
       "metadata": {},
       "output_type": "pyout",
       "prompt_number": 2,
       "text": [
        "./miniMusic/jazz/151-Lover Come Piano.mid\t\n"
       ]
      },
      {
       "metadata": {},
       "output_type": "pyout",
       "prompt_number": 2,
       "text": [
        "./miniMusic/jazz/152-Lullaby.mid\t\n"
       ]
      },
      {
       "metadata": {},
       "output_type": "pyout",
       "prompt_number": 2,
       "text": [
        "./miniMusic/jazz/153-Lush Life (trio).mid\t\n"
       ]
      },
      {
       "metadata": {},
       "output_type": "pyout",
       "prompt_number": 2,
       "text": [
        "./miniMusic/jazz/154-Mad About The Boy.mid\t\n"
       ]
      },
      {
       "metadata": {},
       "output_type": "pyout",
       "prompt_number": 2,
       "text": [
        "./miniMusic/jazz/155-Maiden Voyage.mid\t\n"
       ]
      },
      {
       "metadata": {},
       "output_type": "pyout",
       "prompt_number": 2,
       "text": [
        "./miniMusic/jazz/156-Maids Of Cadiz 2.mid\t\n"
       ]
      },
      {
       "metadata": {},
       "output_type": "pyout",
       "prompt_number": 2,
       "text": [
        "./miniMusic/jazz/157-Make Someone Happy.mid\t\n"
       ]
      },
      {
       "metadata": {},
       "output_type": "pyout",
       "prompt_number": 2,
       "text": [
        "./miniMusic/jazz/158-Mangone.mid\t\n"
       ]
      },
      {
       "metadata": {},
       "output_type": "pyout",
       "prompt_number": 2,
       "text": [
        "./miniMusic/jazz/159-Manteca.mid\t\n"
       ]
      },
      {
       "metadata": {},
       "output_type": "pyout",
       "prompt_number": 2,
       "text": [
        "./miniMusic/jazz/160-Mean To Me.mid\t\n"
       ]
      },
      {
       "metadata": {},
       "output_type": "pyout",
       "prompt_number": 2,
       "text": [
        "./miniMusic/jazz/161-Memories Of Paris.mid\t\n"
       ]
      },
      {
       "metadata": {},
       "output_type": "pyout",
       "prompt_number": 2,
       "text": [
        "./miniMusic/jazz/162-Merry Xmas.mid\t\n"
       ]
      },
      {
       "metadata": {},
       "output_type": "pyout",
       "prompt_number": 2,
       "text": [
        "./miniMusic/jazz/163-Mike Pee 2.mid\t\n"
       ]
      },
      {
       "metadata": {},
       "output_type": "pyout",
       "prompt_number": 2,
       "text": [
        "./miniMusic/jazz/164-Milestones.mid\t\n"
       ]
      },
      {
       "metadata": {},
       "output_type": "pyout",
       "prompt_number": 2,
       "text": [
        "./miniMusic/jazz/165-Miyako.mid\t\n"
       ]
      },
      {
       "metadata": {},
       "output_type": "pyout",
       "prompt_number": 2,
       "text": [
        "./miniMusic/jazz/166-Mood Indigo (solo).mid\t\n"
       ]
      },
      {
       "metadata": {},
       "output_type": "pyout",
       "prompt_number": 2,
       "text": [
        "./miniMusic/jazz/167-Moon And Sand.mid\t\n"
       ]
      },
      {
       "metadata": {},
       "output_type": "pyout",
       "prompt_number": 2,
       "text": [
        "./miniMusic/jazz/168-Moon Light In Vermont.mid\t\n"
       ]
      },
      {
       "metadata": {},
       "output_type": "pyout",
       "prompt_number": 2,
       "text": [
        "./miniMusic/jazz/169-Moon River 3.mid\t\n"
       ]
      },
      {
       "metadata": {},
       "output_type": "pyout",
       "prompt_number": 2,
       "text": [
        "./miniMusic/jazz/171-My Foolish Heart.mid\t\n"
       ]
      },
      {
       "metadata": {},
       "output_type": "pyout",
       "prompt_number": 2,
       "text": [
        "./miniMusic/jazz/183-Old Fashioned (trio).mid\t\n"
       ]
      },
      {
       "metadata": {},
       "output_type": "pyout",
       "prompt_number": 2,
       "text": [
        "./miniMusic/jazz/194-Pathetique.mid\t\n"
       ]
      },
      {
       "metadata": {},
       "output_type": "pyout",
       "prompt_number": 2,
       "text": [
        "./miniMusic/jazz/203-Porgy 1.mid\t\n"
       ]
      },
      {
       "metadata": {},
       "output_type": "pyout",
       "prompt_number": 2,
       "text": [
        "./miniMusic/jazz/204-Porgy 2.mid\t\n"
       ]
      },
      {
       "metadata": {},
       "output_type": "pyout",
       "prompt_number": 2,
       "text": [
        "./miniMusic/jazz/220-Simple Life.mid\t\n"
       ]
      },
      {
       "metadata": {},
       "output_type": "pyout",
       "prompt_number": 2,
       "text": [
        "./miniMusic/jazz/255-Sweet Way 1.mid\t\n"
       ]
      },
      {
       "metadata": {},
       "output_type": "pyout",
       "prompt_number": 2,
       "text": [
        "./miniMusic/jazz/256-Sweet Way 2.mid\t\n"
       ]
      },
      {
       "metadata": {},
       "output_type": "pyout",
       "prompt_number": 2,
       "text": [
        "./miniMusic/jazz/257-Sweetway3.mid\t\n"
       ]
      },
      {
       "metadata": {},
       "output_type": "pyout",
       "prompt_number": 2,
       "text": [
        "./miniMusic/rock/actnatur.mid\t\n"
       ]
      },
      {
       "metadata": {},
       "output_type": "pyout",
       "prompt_number": 2,
       "text": [
        "./miniMusic/rock/ahardday.mid\t\n"
       ]
      },
      {
       "metadata": {},
       "output_type": "pyout",
       "prompt_number": 2,
       "text": [
        "./miniMusic/rock/alligot.mid\t\n"
       ]
      },
      {
       "metadata": {},
       "output_type": "pyout",
       "prompt_number": 2,
       "text": [
        "./miniMusic/rock/andilove.mid\t\n"
       ]
      },
      {
       "metadata": {},
       "output_type": "pyout",
       "prompt_number": 2,
       "text": [
        "./miniMusic/rock/anna.mid\t\n"
       ]
      },
      {
       "metadata": {},
       "output_type": "pyout",
       "prompt_number": 2,
       "text": [
        "./miniMusic/rock/anotherg.mid\t\n"
       ]
      },
      {
       "metadata": {},
       "output_type": "pyout",
       "prompt_number": 2,
       "text": [
        "./miniMusic/rock/anytime.mid\t\n"
       ]
      },
      {
       "metadata": {},
       "output_type": "pyout",
       "prompt_number": 2,
       "text": [
        "./miniMusic/rock/askmewhy.mid\t\n"
       ]
      },
      {
       "metadata": {},
       "output_type": "pyout",
       "prompt_number": 2,
       "text": [
        "./miniMusic/rock/atasteof.mid\t\n"
       ]
      },
      {
       "metadata": {},
       "output_type": "pyout",
       "prompt_number": 2,
       "text": [
        "./miniMusic/rock/babyinbk.mid\t\n"
       ]
      },
      {
       "metadata": {},
       "output_type": "pyout",
       "prompt_number": 2,
       "text": [
        "./miniMusic/rock/babyitsu.mid\t\n"
       ]
      },
      {
       "metadata": {},
       "output_type": "pyout",
       "prompt_number": 2,
       "text": [
        "./miniMusic/rock/backussr.mid\t\n"
       ]
      },
      {
       "metadata": {},
       "output_type": "pyout",
       "prompt_number": 2,
       "text": [
        "./miniMusic/rock/blkbird.mid\t\n"
       ]
      },
      {
       "metadata": {},
       "output_type": "pyout",
       "prompt_number": 2,
       "text": [
        "./miniMusic/rock/boys.mid\t\n"
       ]
      },
      {
       "metadata": {},
       "output_type": "pyout",
       "prompt_number": 2,
       "text": [
        "./miniMusic/rock/breaking_up_is_hard_to_do.mid\t\n"
       ]
      },
      {
       "metadata": {},
       "output_type": "pyout",
       "prompt_number": 2,
       "text": [
        "./miniMusic/rock/cantbuy.mid\t\n"
       ]
      },
      {
       "metadata": {},
       "output_type": "pyout",
       "prompt_number": 2,
       "text": [
        "./miniMusic/rock/chains.mid\t\n"
       ]
      },
      {
       "metadata": {},
       "output_type": "pyout",
       "prompt_number": 2,
       "text": [
        "./miniMusic/rock/dearprud.mid\t\n"
       ]
      },
      {
       "metadata": {},
       "output_type": "pyout",
       "prompt_number": 2,
       "text": [
        "./miniMusic/rock/desperado.mid\t\n"
       ]
      },
      {
       "metadata": {},
       "output_type": "pyout",
       "prompt_number": 2,
       "text": [
        "./miniMusic/rock/devilin.mid\t\n"
       ]
      },
      {
       "metadata": {},
       "output_type": "pyout",
       "prompt_number": 2,
       "text": [
        "./miniMusic/rock/digit.mid\t\n"
       ]
      },
      {
       "metadata": {},
       "output_type": "pyout",
       "prompt_number": 2,
       "text": [
        "./miniMusic/rock/dizzlizz.mid\t\n"
       ]
      },
      {
       "metadata": {},
       "output_type": "pyout",
       "prompt_number": 2,
       "text": [
        "./miniMusic/rock/dontboth.mid\t\n"
       ]
      },
      {
       "metadata": {},
       "output_type": "pyout",
       "prompt_number": 2,
       "text": [
        "./miniMusic/rock/dontpass.mid\t\n"
       ]
      },
      {
       "metadata": {},
       "output_type": "pyout",
       "prompt_number": 2,
       "text": [
        "./miniMusic/rock/douwant.mid\t\n"
       ]
      },
      {
       "metadata": {},
       "output_type": "pyout",
       "prompt_number": 2,
       "text": [
        "./miniMusic/rock/ebodytry.mid\t\n"
       ]
      },
      {
       "metadata": {},
       "output_type": "pyout",
       "prompt_number": 2,
       "text": [
        "./miniMusic/rock/eightday.mid\t\n"
       ]
      },
      {
       "metadata": {},
       "output_type": "pyout",
       "prompt_number": 2,
       "text": [
        "./miniMusic/rock/forublue.mid\t\n"
       ]
      },
      {
       "metadata": {},
       "output_type": "pyout",
       "prompt_number": 2,
       "text": [
        "./miniMusic/rock/georgyporgy.mid\t\n"
       ]
      },
      {
       "metadata": {},
       "output_type": "pyout",
       "prompt_number": 2,
       "text": [
        "./miniMusic/rock/idigpony.mid\t\n"
       ]
      },
      {
       "metadata": {},
       "output_type": "pyout",
       "prompt_number": 2,
       "text": [
        "./miniMusic/rock/ififell.mid\t\n"
       ]
      },
      {
       "metadata": {},
       "output_type": "pyout",
       "prompt_number": 2,
       "text": [
        "./miniMusic/rock/imaloser.mid\t\n"
       ]
      },
      {
       "metadata": {},
       "output_type": "pyout",
       "prompt_number": 2,
       "text": [
        "./miniMusic/rock/its_gonna_take_a_long_time.mid\t\n"
       ]
      },
      {
       "metadata": {},
       "output_type": "pyout",
       "prompt_number": 2,
       "text": [
        "./miniMusic/rock/iwill.mid\t\n"
       ]
      },
      {
       "metadata": {},
       "output_type": "pyout",
       "prompt_number": 2,
       "text": [
        "./miniMusic/rock/iwontholdback.mid\t\n"
       ]
      },
      {
       "metadata": {},
       "output_type": "pyout",
       "prompt_number": 2,
       "text": [
        "./miniMusic/rock/letitbe.mid\t\n"
       ]
      },
      {
       "metadata": {},
       "output_type": "pyout",
       "prompt_number": 2,
       "text": [
        "./miniMusic/rock/lovemedo.mid\t\n"
       ]
      },
      {
       "metadata": {},
       "output_type": "pyout",
       "prompt_number": 2,
       "text": [
        "./miniMusic/rock/misery.mid\t\n"
       ]
      },
      {
       "metadata": {},
       "output_type": "pyout",
       "prompt_number": 2,
       "text": [
        "./miniMusic/rock/nightb4.mid\t\n"
       ]
      },
      {
       "metadata": {},
       "output_type": "pyout",
       "prompt_number": 2,
       "text": [
        "./miniMusic/rock/noreply.mid\t\n"
       ]
      },
      {
       "metadata": {},
       "output_type": "pyout",
       "prompt_number": 2,
       "text": [
        "./miniMusic/rock/not2time.mid\t\n"
       ]
      },
      {
       "metadata": {},
       "output_type": "pyout",
       "prompt_number": 2,
       "text": [
        "./miniMusic/rock/ob-la-di.mid\t\n"
       ]
      },
      {
       "metadata": {},
       "output_type": "pyout",
       "prompt_number": 2,
       "text": [
        "./miniMusic/rock/pamela.mid\t\n"
       ]
      },
      {
       "metadata": {},
       "output_type": "pyout",
       "prompt_number": 2,
       "text": [
        "./miniMusic/rock/piggies.mid\t\n"
       ]
      },
      {
       "metadata": {},
       "output_type": "pyout",
       "prompt_number": 2,
       "text": [
        "./miniMusic/rock/plsplsme.mid\t\n"
       ]
      },
      {
       "metadata": {},
       "output_type": "pyout",
       "prompt_number": 2,
       "text": [
        "./miniMusic/rock/rockyrac.mid\t\n"
       ]
      },
      {
       "metadata": {},
       "output_type": "pyout",
       "prompt_number": 2,
       "text": [
        "./miniMusic/rock/superstar.mid\t\n"
       ]
      },
      {
       "metadata": {},
       "output_type": "pyout",
       "prompt_number": 2,
       "text": [
        "./miniMusic/rock/takeit2.mid\t\n"
       ]
      },
      {
       "metadata": {},
       "output_type": "pyout",
       "prompt_number": 2,
       "text": [
        "./miniMusic/rock/thelong.mid\t\n"
       ]
      },
      {
       "metadata": {},
       "output_type": "pyout",
       "prompt_number": 2,
       "text": [
        "./miniMusic/rock/therespl.mid\t\n"
       ]
      },
      {
       "metadata": {},
       "output_type": "pyout",
       "prompt_number": 2,
       "text": [
        "./miniMusic/rock/tillther.mid\t\n"
       ]
      },
      {
       "metadata": {},
       "output_type": "pyout",
       "prompt_number": 2,
       "text": [
        "./miniMusic/rock/whatareu.mid\t\n"
       ]
      },
      {
       "metadata": {},
       "output_type": "pyout",
       "prompt_number": 2,
       "text": [
        "./miniMusic/rock/wheniget.mid\t\n"
       ]
      },
      {
       "metadata": {},
       "output_type": "pyout",
       "prompt_number": 2,
       "text": [
        "./miniMusic/rock/whilemy.mid\t\n"
       ]
      },
      {
       "metadata": {},
       "output_type": "pyout",
       "prompt_number": 2,
       "text": [
        "./miniMusic/rock/willbe.mid\t\n"
       ]
      },
      {
       "metadata": {},
       "output_type": "pyout",
       "prompt_number": 2,
       "text": [
        "./miniMusic/rock/yesterday_once_more.mid\t\n"
       ]
      },
      {
       "metadata": {},
       "output_type": "pyout",
       "prompt_number": 2,
       "text": [
        "./miniMusic/rock/youvegot.mid\t\n"
       ]
      }
     ],
     "prompt_number": 2
    },
    {
     "cell_type": "code",
     "collapsed": false,
     "input": [],
     "language": "python",
     "metadata": {},
     "outputs": [],
     "prompt_number": 3
    },
    {
     "cell_type": "code",
     "collapsed": false,
     "input": [],
     "language": "python",
     "metadata": {},
     "outputs": [],
     "prompt_number": 4
    },
    {
     "cell_type": "code",
     "collapsed": false,
     "input": [
      "--Step 2: Create the model\n",
      "inp=128;  -- dimensionality of one sequence element \n",
      "outp=32; -- number of derived features for one sequence element\n",
      "kw=128;   -- kernel only operates on one sequence element at once\n",
      "dw=128;   -- we step once and go on to the next sequence element\n",
      "spl =128 -- split constant\n",
      "--print(nn)\n",
      "mlp=nn.Sequential()\n",
      "mlp:add(nn.TemporalConvolution(inp,128,kw,dw))\n",
      "mlp:add(nn.Reshape(inp))\n",
      "mlp:add(nn.Tanh())\n",
      "mlp:add(nn.Linear(inp,32))\n",
      "mlp:add(nn.ReLU())\n",
      "mlp:add(nn.Linear(32,#classes))\n",
      "mlp:add(nn.LogSoftMax())\n",
      "mlp:add(nn.Sum(1))\n",
      "--mlp:add(nn.parallel)\n",
      "--mlp:add(nn.Sum(1))\n",
      "--mlp:add(nn.Mean(2))\n",
      "--mlp2 = nn.TemporalMaxPooling(3) --nn.TemporalSubSampling(128,3)\n",
      "x=torch.rand(256,inp) -- a sequence of 7 elements\n",
      "--x=nil\n",
      "--y=torch.rand(8,1)\n",
      "--print(y)\n",
      "--print(x)\n",
      "--print(mlp2:forward(x))\n",
      "\n",
      "print(mlp:forward(x))\n",
      "model = mlp\n",
      "--print(x)\n",
      "--print (trainData)\n",
      "\n",
      "\n"
     ],
     "language": "python",
     "metadata": {},
     "outputs": [
      {
       "metadata": {},
       "output_type": "pyout",
       "prompt_number": 3,
       "text": [
        "-2.3277\n",
        "-2.0075\n",
        "-2.2713\n",
        "[torch.FloatTensor of dimension 3]\n",
        "\n"
       ]
      }
     ],
     "prompt_number": 3
    },
    {
     "cell_type": "code",
     "collapsed": false,
     "input": [
      "\n",
      "--mlp = nn.Sequential()\n",
      "--mlp:add( nn.Linear(10, 25) ) -- 10 input, 25 hidden units\n",
      "--mlp:add( nn.Tanh() ) -- some hyperbolic tangent transfer function\n",
      "--mlp:add( nn.Linear(25, 1) ) -- 1 output\n",
      "\n",
      "--print(mlp:forward(torch.randn(10,10)))\n",
      "--print(model)\n",
      "\n",
      "\n",
      "--[[\n",
      "\n",
      "\n",
      "\n",
      "ninputs = 128\n",
      "noutputs = 1\n",
      "nhidden = 300\n",
      "--MLP\n",
      "model = nn.Sequential()\n",
      "model:add(nn.Reshape(ninputs))\n",
      "model:add(nn.Linear(ninputs,nhidden))\n",
      "\n",
      "model:add(nn.ReLU())\n",
      "model:add(nn.Linear(nhidden, noutputs))\n",
      "model:add(nn.LogSoftMax())\n",
      "--]]"
     ],
     "language": "python",
     "metadata": {},
     "outputs": [
      {
       "metadata": {},
       "output_type": "pyout",
       "prompt_number": 4,
       "text": [
        "\n"
       ]
      }
     ],
     "prompt_number": 4
    },
    {
     "cell_type": "code",
     "collapsed": false,
     "input": [
      "--Step 3: Defne Our Loss Function\n",
      "criterion = nn.ClassNLLCriterion()"
     ],
     "language": "python",
     "metadata": {},
     "outputs": [],
     "prompt_number": 5
    },
    {
     "cell_type": "code",
     "collapsed": false,
     "input": [
      "-- classes\n",
      "--classes = {'Classical','Jazz'}\n",
      "--Obtained from GetTrainAndTestData\n",
      "\n",
      "-- This matrix records the current confusion across classes\n",
      "confusion = optim.ConfusionMatrix(classes)\n",
      "print(confusion)\n",
      "-- Log results to files\n",
      "trainLogger = optim.Logger(paths.concat('.', 'train.log'))\n",
      "testLogger = optim.Logger(paths.concat('.', 'test.log'))\n",
      "\n",
      "-- Retrieve parameters and gradients:\n",
      "-- this extracts and flattens all the trainable parameters of the mode\n",
      "-- into a 1-dim vector\n",
      "if model then\n",
      "   parameters,gradParameters = model:getParameters()\n",
      "end"
     ],
     "language": "python",
     "metadata": {},
     "outputs": [
      {
       "metadata": {},
       "output_type": "pyout",
       "prompt_number": 6,
       "text": [
        "ConfusionMatrix:\n",
        "[[       0       0       0]   nan% \t[class: Classical]\n",
        " [       0       0       0]   nan% \t[class: Jazz]\n",
        " [       0       0       0]]  nan% \t[class: Rock]\n",
        " + average row correct: nan% \n",
        " + average rowUcol correct (VOC measure): nan% \n",
        " + global correct: nan%\n",
        "{\n",
        "  averageUnionValid : nan\n",
        "  _targ_idx : LongTensor - empty\n",
        "  valids : FloatTensor - size: 3\n",
        "  classes : \n",
        "    {\n",
        "      1 : Classical\n",
        "      2 : Jazz\n",
        "      3 : Rock\n",
        "    }\n",
        "  _target : FloatTensor - empty\n",
        "  mat : FloatTensor - size: 3x3\n",
        "  _pred_idx : LongTensor - empty\n",
        "  _max : FloatTensor - empty\n",
        "  unionvalids : FloatTensor - size: 3\n",
        "  nclasses : 3\n",
        "  totalValid : nan\n",
        "  _prediction : FloatTensor - empty\n",
        "  averageValid : nan\n",
        "}\n"
       ]
      }
     ],
     "prompt_number": 6
    },
    {
     "cell_type": "code",
     "collapsed": false,
     "input": [
      "optimState = {\n",
      "    learningRate = 0.003,\n",
      "    weightDecay = 0.01,\n",
      "    momentum = 0.01,\n",
      "    learningRateDecay = 5e-7\n",
      "}\n",
      "optimMethod = optim.sgd\n",
      "--print(torch.randperm(11))"
     ],
     "language": "python",
     "metadata": {},
     "outputs": [],
     "prompt_number": 7
    },
    {
     "cell_type": "code",
     "collapsed": false,
     "input": [
      "epoch = 1\n",
      "function train()\n",
      "\n",
      "   -- epoch tracker\n",
      "   epoch = epoch or 1\n",
      "\n",
      "   -- local vars\n",
      "   local time = sys.clock()\n",
      "\n",
      "   -- set model to training mode (for modules that differ in training and testing, like Dropout)\n",
      "   model:training()\n",
      "   --print(#trainData)\n",
      "   -- shuffle at each epoch\n",
      "   shuffle = torch.randperm(trainData:size())\n",
      "   --print(shuffle:size(1) - #trainData)\n",
      "   -- do one epoch\n",
      "   --print('==> doing epoch on training data:')\n",
      "   --print(\"==> online epoch # \" .. epoch .. ' [batchSize = ' .. 64 .. ']')\n",
      "   --print(trainData:size())\n",
      "    \n",
      "   for t = 1, trainData:size() do\n",
      "        --break\n",
      "      --print (\"HERE\" .. shuffle[t])\n",
      "      -- disp progress\n",
      "      --xlua.progress(t, trainData:size())\n",
      "      --for ts = 1,trainData[shuffle[t]]:size(2),64 do\n",
      "      -- create mini batch\n",
      "      \n",
      "        \n",
      "        \n",
      "      --local inputs = {}\n",
      "      --local targets = {}\n",
      "\n",
      "      --for i = t,math.min(t+64-1,trainData:size()) do\n",
      "         -- load new sample\n",
      "         --local input = trainData.Songs[shuffle[i]]\n",
      "         --local target = trainData.Labels[shuffle[i]]\n",
      "         --input = input:double()\n",
      "         --table.insert(inputs, input)\n",
      "         --table.insert(targets, target)\n",
      "      --end\n",
      "    \n",
      "        \n",
      "        \n",
      "        \n",
      "        \n",
      "        \n",
      "       \n",
      "      local inputs = {}\n",
      "      inputs[1] = trainData.Songs[shuffle[t]]\n",
      "      --print(inputs[0]:size(2))\n",
      "      local targets = {}\n",
      "      targets[1] = trainData.Labels[shuffle[t]]\n",
      "        \n",
      "        \n",
      "        \n",
      "        \n",
      "    --print(inputs)\n",
      "    -- print(targets)\n",
      "\n",
      "      -- create closure to evaluate f(X) and df/dX\n",
      "      local feval = function(x)\n",
      "                       -- get new parameters\n",
      "                       if x ~= parameters then\n",
      "                          parameters:copy(x)\n",
      "                       end\n",
      "\n",
      "                       -- reset gradients\n",
      "                       gradParameters:zero()\n",
      "\n",
      "                       -- f is the average of all criterions\n",
      "                       local f = 0\n",
      "                       local spl_counter = 0\n",
      "                       --print(\"Evaluating mini-batch\")\n",
      "                       -- evaluate function for complete mini batch\n",
      "                       for i = 1,#inputs do\n",
      "                          --print(i)\n",
      "                          -- estimate f   \n",
      "                          --print(\"Calculating output via mode:forward(inputs[i])\")\n",
      "                          --local splitted = inputs[i]:split(spl,1)\n",
      "                           --print(splitted[1]:size())\n",
      "                          --for j = 1,#splitted do\n",
      "                          \n",
      "                          --if splitted[j]:size(1) * splitted[j]:size(2) ~= 128*spl then\n",
      "                          -- break\n",
      "                        --end\n",
      "                          spl_counter  = spl_counter+1\n",
      "                          --print(inputs[i]:size())\n",
      "                          --print(splitted[j])\n",
      "                          local output = model:forward(inputs[i])\n",
      "                          --output = torch.reshape(output, #classes)\n",
      "                          --Maybe have to reshape outpit\n",
      "                          \n",
      "                          --print(\"Calculating error\")\n",
      "                          --print(output:size())\n",
      "                          --print(targets[i])\n",
      "                          local err = criterion:forward(output, targets[i])\n",
      "                          f = f + err\n",
      "\n",
      "                          \n",
      "                          -- estimate df/dW\n",
      "                          local df_do = criterion:backward(output, targets[i])\n",
      "                          model:backward(inputs[i], df_do)\n",
      "\n",
      "                          -- update confusion\n",
      "                        --if (j % 3) then\n",
      "                          confusion:add(output, targets[i])\n",
      "                        --end\n",
      "                       --end\n",
      "                       end\n",
      "\n",
      "                       -- normalize gradients and f(X)\n",
      "                       gradParameters:div(spl_counter)\n",
      "                       f = f/spl_counter\n",
      "\n",
      "                       --print(\"Returning from feval\")\n",
      "                       -- return f and df/dX\n",
      "                       return f,gradParameters\n",
      "                    end\n",
      "\n",
      "                   config = {learningRate = 0.003, weightDecay = 0.01, \n",
      "      momentum = 0.01, learningRateDecay = 5e-7}\n",
      "        --print(\"Before optim.sgd\")\n",
      "        optim.sgd(feval, parameters, config)\n",
      "        --print(\"After optim.sgd\")\n",
      "   end\n",
      "\n",
      "    --print(\"Before taking time\")\n",
      "    \n",
      "   -- time taken\n",
      "   time = sys.clock() - time\n",
      "   time = time / #trainData\n",
      "   --print(\"\\n==> time to learn 1 sample = \" .. (time*1000) .. 'ms')\n",
      "\n",
      "   -- print confusion matrix\n",
      "   print(confusion)\n",
      "\n",
      "   -- update logger/plot\n",
      "   trainLogger:add{['% mean class accuracy (train set)'] = confusion.totalValid * 100}\n",
      "   if true then\n",
      "      trainLogger:style{['% mean class accuracy (train set)'] = '-'}\n",
      "      trainLogger:plot()\n",
      "   end\n",
      "\n",
      "   -- save/log current net\n",
      "   local filename = paths.concat('.', 'model.net')\n",
      "   os.execute('mkdir -p ' .. sys.dirname(filename))\n",
      "   print('==> saving model to '..filename)\n",
      "   torch.save(filename, model)\n",
      "\n",
      "   -- next epoch\n",
      "   confusion:zero()\n",
      "   epoch = epoch + 1\n",
      "end\n"
     ],
     "language": "python",
     "metadata": {},
     "outputs": [],
     "prompt_number": 8
    },
    {
     "cell_type": "code",
     "collapsed": false,
     "input": [
      "getClass = function(preds,target,confusion)\n",
      "local c = {}\n",
      "c[1] = 0\n",
      "c[2] = 0\n",
      "c[3] = 0\n",
      "for i = 1,#preds\n",
      "    do \n",
      "        local m = preds[i][1]\n",
      "        local current = 1\n",
      "        for j=2,3\n",
      "        do\n",
      "            if(preds[i][j] > m)\n",
      "            then\n",
      "                current = j\n",
      "            end\n",
      "        end\n",
      "        c[current] = c[current] + 1\n",
      "    end\n",
      "--print(c)\n",
      "--print(target)\n",
      "end"
     ],
     "language": "python",
     "metadata": {},
     "outputs": [],
     "prompt_number": 9
    },
    {
     "cell_type": "code",
     "collapsed": false,
     "input": [
      "function test()\n",
      "   -- local vars\n",
      "   local time = sys.clock()\n",
      "\n",
      "   -- averaged param use?\n",
      "   if average then\n",
      "      cachedparams = parameters:clone()\n",
      "      parameters:copy(average)\n",
      "   end\n",
      "\n",
      "   -- set model to evaluate mode (for modules that differ in training and testing, like Dropout)\n",
      "   model:evaluate()\n",
      "  print(testData:size())\n",
      "   -- test over test data\n",
      "   print('==> testing on test set:')\n",
      "   for t = 1,testData:size() do\n",
      "      -- disp progress\n",
      "      xlua.progress(t, testData:size())\n",
      "\n",
      "      -- get new sample\n",
      "      local input = testData.Songs[t]\n",
      "      --input = input:double()\n",
      "      local target = testData.Labels[t]\n",
      "      --local sum = torch.Tensor(3)\n",
      "      --preds = {}\n",
      "      -- test sample\n",
      "      --local splitted = input:split(spl,1)\n",
      "      ---                          for j = 1,#splitted do\n",
      "         --                 if splitted[j]:size(1) * splitted[j]:size(2) ~= 128*spl then\n",
      "           --                break\n",
      "             --           end\n",
      "      local pred = model:forward(input)\n",
      "      pred = torch.reshape(pred, #classes)\n",
      "      --preds[j] = pred\n",
      "      --print(\"prediction\")\n",
      "      --print(pred)\n",
      "      --print(\"target\")\n",
      "      --print(target)\n",
      "      --sum = sum + pred\n",
      "      confusion:add(pred, target)\n",
      "      --print (confusion)\n",
      "      end\n",
      "      --getClass(preds,target,confusion)\n",
      "      --confusion:add(sum,target)\n",
      "  -- end\n",
      "\n",
      "   -- timing\n",
      "   time = sys.clock() - time\n",
      "   time = time / testData:size()\n",
      "   print(\"\\n==> time to test 1 sample = \" .. (time*1000) .. 'ms')\n",
      "\n",
      "   -- print confusion matrix\n",
      "   print(confusion)\n",
      "\n",
      "   -- update log/plot\n",
      "   testLogger:add{['% mean class accuracy (test set)'] = confusion.totalValid * 100}\n",
      "   if true then\n",
      "      testLogger:style{['% mean class accuracy (test set)'] = '-'}\n",
      "      testLogger:plot()\n",
      "   end\n",
      "\n",
      "   -- averaged param use?\n",
      "   if average then\n",
      "      -- restore parameters\n",
      "      parameters:copy(cachedparams)\n",
      "   end\n",
      "   \n",
      "   -- next iteration:\n",
      "   confusion:zero()\n",
      "end\n",
      "--test()"
     ],
     "language": "python",
     "metadata": {},
     "outputs": [],
     "prompt_number": 10
    },
    {
     "cell_type": "code",
     "collapsed": false,
     "input": [
      "for i = 1, 10 do\n",
      "    train()\n",
      "end\n",
      "test()"
     ],
     "language": "python",
     "metadata": {},
     "outputs": [
      {
       "metadata": {},
       "output_type": "pyout",
       "prompt_number": 11,
       "text": [
        "ConfusionMatrix:\n",
        "[[       1      23       1]   4.000% \t[class: Classical]\n",
        " [       0      23       3]   88.462% \t[class: Jazz]\n",
        " [       1      23      10]]  29.412% \t[class: Rock]\n",
        " + average row correct: 40.624434004227% \n",
        " + average rowUcol correct (VOC measure): 20.702129726609% \n",
        " + global correct: 40%\n",
        "{\n",
        "  averageUnionValid : 0.20702129726609\n",
        "  _targ_idx : LongTensor - empty\n",
        "  valids : FloatTensor - size: 3\n",
        "  classes : \n",
        "    {\n",
        "      1 : Classical\n",
        "      2 : Jazz\n",
        "      3 : Rock\n",
        "    }\n",
        "  _target : FloatTensor - empty\n",
        "  mat : FloatTensor - size: 3x3\n",
        "  _pred_idx : LongTensor - size: 1\n",
        "  _max : FloatTensor - size: 1\n",
        "  unionvalids : FloatTensor - size: 3\n",
        "  nclasses : 3\n",
        "  totalValid : 0.4\n",
        "  _prediction : FloatTensor - size: 3\n",
        "  averageValid : 0.40624434004227\n",
        "}\n"
       ]
      },
      {
       "metadata": {},
       "output_type": "pyout",
       "prompt_number": 11,
       "text": [
        "==> saving model to /Users/appleseed/Documents/Recurrent-Neural-Net-Music-Classification/model.net\t\n"
       ]
      },
      {
       "metadata": {},
       "output_type": "pyout",
       "prompt_number": 11,
       "text": [
        "ConfusionMatrix:\n",
        "[[      16       9       0]   64.000% \t[class: Classical]\n",
        " [       1      25       0]   96.154% \t[class: Jazz]\n",
        " [       1      10      23]]  67.647% \t[class: Rock]\n",
        " + average row correct: 75.933633248011% \n",
        " + average rowUcol correct (VOC measure): 60.820625225703% \n",
        " + global correct: 75.294117647059%\n",
        "{\n",
        "  averageUnionValid : 0.60820625225703\n",
        "  _targ_idx : LongTensor - empty\n",
        "  valids : FloatTensor - size: 3\n",
        "  classes : \n",
        "    {\n",
        "      1 : Classical\n",
        "      2 : Jazz\n",
        "      3 : Rock\n",
        "    }\n",
        "  _target : FloatTensor - empty\n",
        "  mat : FloatTensor - size: 3x3\n",
        "  _pred_idx : LongTensor - size: 1\n",
        "  _max : FloatTensor - size: 1\n",
        "  unionvalids : FloatTensor - size: 3\n",
        "  nclasses : 3\n",
        "  totalValid : 0.75294117647059\n"
       ]
      },
      {
       "metadata": {},
       "output_type": "pyout",
       "prompt_number": 11,
       "text": [
        "  _prediction : FloatTensor - size: 3\n",
        "  averageValid : 0.75933633248011\n",
        "}\n"
       ]
      },
      {
       "metadata": {},
       "output_type": "pyout",
       "prompt_number": 11,
       "text": [
        "==> saving model to /Users/appleseed/Documents/Recurrent-Neural-Net-Music-Classification/model.net\t\n"
       ]
      },
      {
       "metadata": {},
       "output_type": "pyout",
       "prompt_number": 11,
       "text": [
        "ConfusionMatrix:\n",
        "[[      25       0       0]   100.000% \t[class: Classical]\n",
        " [       3      23       0]   88.462% \t[class: Jazz]\n",
        " [       1       4      29]]  85.294% \t[class: Rock]\n",
        " + average row correct: 91.251883904139% \n",
        " + average rowUcol correct (VOC measure): 82.722558577855% \n",
        " + global correct: 90.588235294118%\n",
        "{\n",
        "  averageUnionValid : 0.82722558577855\n",
        "  _targ_idx : LongTensor - empty\n",
        "  valids : FloatTensor - size: 3\n",
        "  classes : \n",
        "    {\n",
        "      1 : Classical\n",
        "      2 : Jazz\n",
        "      3 : Rock\n",
        "    }\n",
        "  _target : FloatTensor - empty\n",
        "  mat : FloatTensor - size: 3x3\n",
        "  _pred_idx : LongTensor - size: 1\n",
        "  _max : FloatTensor - size: 1\n",
        "  unionvalids : FloatTensor - size: 3\n",
        "  nclasses : 3\n",
        "  totalValid : 0.90588235294118\n",
        "  _prediction : FloatTensor - size: 3\n",
        "  averageValid : 0.91251883904139\n",
        "}\n"
       ]
      },
      {
       "metadata": {},
       "output_type": "pyout",
       "prompt_number": 11,
       "text": [
        "==> saving model to /Users/appleseed/Documents/Recurrent-Neural-Net-Music-Classification/model.net\t\n"
       ]
      },
      {
       "metadata": {},
       "output_type": "pyout",
       "prompt_number": 11,
       "text": [
        "ConfusionMatrix:\n",
        "[[      25       0       0]   100.000% \t[class: Classical]\n",
        " [       3      23       0]   88.462% \t[class: Jazz]\n",
        " [       1       3      30]]  88.235% \t[class: Rock]\n",
        " + average row correct: 92.232276995977% \n",
        " + average rowUcol correct (VOC measure): 84.584178527196% \n",
        " + global correct: 91.764705882353%\n",
        "{\n",
        "  averageUnionValid : 0.84584178527196\n",
        "  _targ_idx : LongTensor - empty\n",
        "  valids : FloatTensor - size: 3\n",
        "  classes : \n",
        "    {\n",
        "      1 : Classical\n",
        "      2 : Jazz\n",
        "      3 : Rock\n",
        "    }\n",
        "  _target : FloatTensor - empty\n",
        "  mat : FloatTensor - size: 3x3\n",
        "  _pred_idx : LongTensor - size: 1\n",
        "  _max : FloatTensor - size: 1\n",
        "  unionvalids : FloatTensor - size: 3\n",
        "  nclasses : 3\n",
        "  totalValid : 0.91764705882353\n",
        "  _prediction : FloatTensor - size: 3\n",
        "  averageValid : 0.92232276995977\n",
        "}\n"
       ]
      },
      {
       "metadata": {},
       "output_type": "pyout",
       "prompt_number": 11,
       "text": [
        "==> saving model to /Users/appleseed/Documents/Recurrent-Neural-Net-Music-Classification/model.net\t\n"
       ]
      },
      {
       "metadata": {},
       "output_type": "pyout",
       "prompt_number": 11,
       "text": [
        "ConfusionMatrix:\n",
        "[[      25       0       0]   100.000% \t[class: Classical]\n",
        " [       4      22       0]   84.615% \t[class: Jazz]\n",
        " [       2       1      31]]  91.176% \t[class: Rock]\n",
        " + average row correct: 91.930617888769% \n",
        " + average rowUcol correct (VOC measure): 84.434370199839% \n",
        " + global correct: 91.764705882353%\n",
        "{\n",
        "  averageUnionValid : 0.84434370199839\n",
        "  _targ_idx : LongTensor - empty\n",
        "  valids : FloatTensor - size: 3\n",
        "  classes : \n",
        "    {\n",
        "      1 : Classical\n",
        "      2 : Jazz\n",
        "      3 : Rock\n",
        "    }\n",
        "  _target : FloatTensor - empty\n",
        "  mat : FloatTensor - size: 3x3\n",
        "  _pred_idx : LongTensor - size: 1\n",
        "  _max : FloatTensor - size: 1\n",
        "  unionvalids : FloatTensor - size: 3\n",
        "  nclasses : 3\n",
        "  totalValid : 0.91764705882353\n",
        "  _prediction : FloatTensor - size: 3\n",
        "  averageValid : 0.91930617888769\n",
        "}\n"
       ]
      },
      {
       "metadata": {},
       "output_type": "pyout",
       "prompt_number": 11,
       "text": [
        "==> saving model to /Users/appleseed/Documents/Recurrent-Neural-Net-Music-Classification/model.net\t\n"
       ]
      },
      {
       "metadata": {},
       "output_type": "pyout",
       "prompt_number": 11,
       "text": [
        "ConfusionMatrix:\n",
        "[[      25       0       0]   100.000% \t[class: Classical]\n",
        " [       2      24       0]   92.308% \t[class: Jazz]\n",
        " [       1       2      31]]  91.176% \t[class: Rock]\n",
        " + average row correct: 94.494720300039% \n",
        " + average rowUcol correct (VOC measure): 88.725489377975% \n",
        " + global correct: 94.117647058824%\n",
        "{\n",
        "  "
       ]
      },
      {
       "metadata": {},
       "output_type": "pyout",
       "prompt_number": 11,
       "text": [
        "averageUnionValid : 0.88725489377975\n",
        "  _targ_idx : LongTensor - empty\n",
        "  valids : FloatTensor - size: 3\n",
        "  classes : \n",
        "    {\n",
        "      1 : Classical\n",
        "      2 : Jazz\n",
        "      3 : Rock\n",
        "    }\n",
        "  _target : FloatTensor - empty\n",
        "  mat : FloatTensor - size: 3x3\n",
        "  _pred_idx : LongTensor - size: 1\n",
        "  _max : FloatTensor - size: 1\n",
        "  unionvalids : FloatTensor - size: 3\n",
        "  nclasses : 3\n",
        "  totalValid : 0.94117647058824\n",
        "  _prediction : FloatTensor - size: 3\n",
        "  averageValid : 0.94494720300039\n",
        "}\n"
       ]
      },
      {
       "metadata": {},
       "output_type": "pyout",
       "prompt_number": 11,
       "text": [
        "==> saving model to /Users/appleseed/Documents/Recurrent-Neural-Net-Music-Classification/model.net\t\n"
       ]
      },
      {
       "metadata": {},
       "output_type": "pyout",
       "prompt_number": 11,
       "text": [
        "ConfusionMatrix:\n",
        "[[      25       0       0]   100.000% \t[class: Classical]\n",
        " [       4      22       0]   84.615% \t[class: Jazz]\n",
        " [       3       0      31]]  91.176% \t[class: Rock]\n",
        " + average row correct: 91.930617888769% \n",
        " + average rowUcol correct (VOC measure): 84.638951222102% \n",
        " + global correct: 91.764705882353%\n",
        "{\n",
        "  averageUnionValid : 0.84638951222102\n",
        "  _targ_idx : LongTensor - empty\n",
        "  valids : FloatTensor - size: 3\n",
        "  classes : \n",
        "    {\n",
        "      1 : Classical\n",
        "      2 : Jazz\n",
        "      3 : Rock\n",
        "    }\n",
        "  _target : FloatTensor - empty\n",
        "  mat : FloatTensor - size: 3x3\n",
        "  _pred_idx : LongTensor - size: 1\n",
        "  _max : FloatTensor - size: 1\n",
        "  unionvalids : FloatTensor - size: 3\n",
        "  nclasses : 3\n",
        "  totalValid : 0.91764705882353\n",
        "  _prediction : FloatTensor - size: 3\n",
        "  averageValid : 0.91930617888769\n",
        "}\n"
       ]
      },
      {
       "metadata": {},
       "output_type": "pyout",
       "prompt_number": 11,
       "text": [
        "==> saving model to /Users/appleseed/Documents/Recurrent-Neural-Net-Music-Classification/model.net\t\n"
       ]
      },
      {
       "metadata": {},
       "output_type": "pyout",
       "prompt_number": 11,
       "text": [
        "ConfusionMatrix:\n",
        "[[      25       0       0]   100.000% \t[class: Classical]\n",
        " [       4      22       0]   84.615% \t[class: Jazz]\n",
        " [       2       1      31]]  91.176% \t[class: Rock]\n",
        " + average row correct: 91.930617888769% \n",
        " + average rowUcol correct (VOC measure): 84.434370199839% \n",
        " + global correct: 91.764705882353%\n",
        "{\n",
        "  averageUnionValid : 0.84434370199839\n",
        "  _targ_idx : LongTensor - empty\n",
        "  valids : FloatTensor - size: 3\n",
        "  classes : \n",
        "    {\n",
        "      1 : Classical\n",
        "      2 : Jazz\n",
        "      3 : Rock\n",
        "    }\n",
        "  _target : FloatTensor - empty\n",
        "  mat : FloatTensor - size: 3x3\n",
        "  _pred_idx : LongTensor - size: 1\n",
        "  _max : FloatTensor - size: 1\n",
        "  unionvalids : FloatTensor - size: 3\n",
        "  nclasses : 3\n",
        "  totalValid : 0.91764705882353\n",
        "  _prediction : FloatTensor - size: 3\n",
        "  averageValid : 0.91930617888769\n",
        "}\n"
       ]
      },
      {
       "metadata": {},
       "output_type": "pyout",
       "prompt_number": 11,
       "text": [
        "==> saving model to /Users/appleseed/Documents/Recurrent-Neural-Net-Music-Classification/model.net\t\n"
       ]
      },
      {
       "metadata": {},
       "output_type": "pyout",
       "prompt_number": 11,
       "text": [
        "ConfusionMatrix:\n",
        "[[      25       0       0]   100.000% \t[class: Classical]\n",
        " [       2      24       0]   92.308% \t[class: Jazz]\n",
        " [       2       1      31]]  91.176% \t[class: Rock]\n",
        " + average row correct: 94.494720300039% \n",
        " + average rowUcol correct (VOC measure): 88.75741759936% \n",
        " + global correct: 94.117647058824%\n",
        "{\n",
        "  averageUnionValid : 0.8875741759936\n",
        "  _targ_idx : LongTensor - empty\n",
        "  valids : FloatTensor - size: 3\n",
        "  classes : \n",
        "    {\n",
        "      1 : Classical\n",
        "      2 : Jazz\n",
        "      3 : Rock\n",
        "    }\n",
        "  _target : FloatTensor - empty\n",
        "  mat : FloatTensor - size: 3x3\n",
        "  _pred_idx : LongTensor - size: 1\n",
        "  _max : FloatTensor - size: 1\n",
        "  unionvalids : FloatTensor - size: 3\n",
        "  nclasses : 3\n",
        "  totalValid : 0.94117647058824\n",
        "  _prediction : FloatTensor - size: 3\n",
        "  averageValid : 0.94494720300039\n",
        "}\n"
       ]
      },
      {
       "metadata": {},
       "output_type": "pyout",
       "prompt_number": 11,
       "text": [
        "==> saving model to /Users/appleseed/Documents/Recurrent-Neural-Net-Music-Classification/model.net\t\n"
       ]
      },
      {
       "metadata": {},
       "output_type": "pyout",
       "prompt_number": 11,
       "text": [
        "ConfusionMatrix:\n",
        "[[      25       0       0]   100.000% \t[class: Classical]\n",
        " [       4      22       0]   84.615% \t[class: Jazz]\n",
        " [       3       0      31]]  91.176% \t[class: Rock]\n",
        " + average row correct: 91.930617888769% \n",
        " + average rowUcol correct (VOC measure): 84.638951222102% \n",
        " + global correct: 91.764705882353%\n",
        "{\n",
        "  averageUnionValid : 0.84638951222102\n",
        "  _targ_idx : LongTensor - empty\n",
        "  valids : FloatTensor - size: 3\n",
        "  classes : \n",
        "    {\n",
        "      1 : Classical\n",
        "      2 : Jazz\n",
        "      3 : Rock\n",
        "    }\n",
        "  _target : FloatTensor - empty\n",
        "  mat : FloatTensor - size: 3x3\n",
        "  _pred_idx : LongTensor - size: 1\n",
        "  _max : FloatTensor - size: 1\n",
        "  unionvalids : FloatTensor - size: 3\n",
        "  nclasses : 3\n",
        "  totalValid : 0.91764705882353\n",
        "  _prediction : FloatTensor - size: 3\n",
        "  averageValid : 0.91930617888769\n",
        "}\n"
       ]
      },
      {
       "metadata": {},
       "output_type": "pyout",
       "prompt_number": 11,
       "text": [
        "==> saving model to /Users/appleseed/Documents/Recurrent-Neural-Net-Music-Classification/model.net\t\n"
       ]
      },
      {
       "metadata": {},
       "output_type": "pyout",
       "prompt_number": 11,
       "text": [
        "58\t\n",
        "==> testing on test set:\t\n",
        "Progress: 1 / 58\t\n"
       ]
      },
      {
       "metadata": {},
       "output_type": "pyout",
       "prompt_number": 11,
       "text": [
        "\n",
        "==> time to test 1 sample = 2.6974636932899ms\t\n",
        "ConfusionMatrix:\n",
        "[[      17       0       0]   100.000% \t[class: Classical]\n",
        " [       5      13       0]   72.222% \t[class: Jazz]\n",
        " [       3       3      17]]  73.913% \t[class: Rock]\n",
        " + average row correct: 82.045088211695% \n",
        " + average rowUcol correct (VOC measure): 67.939269542694% \n",
        " + global correct: 81.034482758621%\n",
        "{\n",
        "  averageUnionValid : 0.67939269542694\n",
        "  _targ_idx : LongTensor - empty\n",
        "  valids : FloatTensor - size: 3\n",
        "  classes : \n",
        "    {\n",
        "      1 : Classical\n",
        "      2 : Jazz\n",
        "      3 : Rock\n",
        "    }\n",
        "  _target : FloatTensor - empty\n",
        "  mat : FloatTensor - size: 3x3\n",
        "  _pred_idx : LongTensor - size: 1\n",
        "  _max : FloatTensor - size: 1\n",
        "  unionvalids : FloatTensor - size: 3\n",
        "  nclasses : 3\n",
        "  totalValid : 0.81034482758621\n",
        "  _prediction : FloatTensor - size: 3\n",
        "  averageValid : 0.82045088211695\n",
        "}\n"
       ]
      }
     ],
     "prompt_number": 11
    },
    {
     "cell_type": "code",
     "collapsed": false,
     "input": [
      "-- The model \n",
      "print(model)\n",
      "\n"
     ],
     "language": "python",
     "metadata": {},
     "outputs": [
      {
       "metadata": {},
       "output_type": "pyout",
       "prompt_number": 38,
       "text": [
        "nn.Sequential {\n",
        "  [input -> (1) -> (2) -> (3) -> (4) -> (5) -> (6) -> (7) -> (8) -> output]\n",
        "  (1): nn.TemporalConvolution\n",
        "  (2): nn.Reshape(128)\n",
        "  (3): nn.Tanh\n",
        "  (4): nn.Linear(128 -> 32)\n",
        "  (5): nn.ReLU\n",
        "  (6): nn.Linear(32 -> 3)\n",
        "  (7): nn.LogSoftMax\n",
        "  (8): nn.Sum\n",
        "}\n",
        "{\n",
        "  output : FloatTensor - size: 3\n"
       ]
      },
      {
       "metadata": {},
       "output_type": "pyout",
       "prompt_number": 38,
       "text": [
        "  gradInput : FloatTensor - size: 4092x128\n",
        "  modules : \n",
        "    {\n",
        "      1 : \n",
        "        nn.TemporalConvolution\n",
        "        {\n",
        "          bias : FloatTensor - size: 128\n",
        "          weight : FloatTensor - size: 128x16384\n",
        "          gradInput : FloatTensor - size: 4092x128\n",
        "          gradBias : FloatTensor - size: 128\n",
        "          dW : 128\n",
        "          gradWeight : FloatTensor - size: 128x16384\n",
        "          output : FloatTensor - size: 26x128\n",
        "   "
       ]
      },
      {
       "metadata": {},
       "output_type": "pyout",
       "prompt_number": 38,
       "text": [
        "       outputFrameSize : 128\n",
        "          inputFrameSize : 128\n",
        "          train : false\n",
        "          kW : 128\n",
        "        }\n",
        "      2 : \n",
        "        nn.Reshape(128)\n",
        "        {\n",
        "          train : false\n",
        "          _gradOutput : FloatTensor - empty\n",
        "          size : LongStorage - size: 1\n",
        "          nelement : 128\n",
        "          _input : FloatTensor - empty\n",
        "          batchsize : LongStorage - size: 2\n"
       ]
      },
      {
       "metadata": {},
       "output_type": "pyout",
       "prompt_number": 38,
       "text": [
        "          output : FloatTensor - size: 26x128\n",
        "          gradInput : FloatTensor - size: 31x128\n",
        "        }\n",
        "      3 : \n",
        "        nn.Tanh\n",
        "        {\n",
        "          train : false\n",
        "          gradInput : FloatTensor - size: 31x128\n",
        "          output : FloatTensor - size: 26x128\n",
        "        }\n",
        "      4 : \n",
        "        nn.Linear(128 -> 32)\n",
        "        {\n",
        "          bias : FloatTensor - size: 32\n",
        "          weight : FloatTensor - size: 32x128\n",
        "          gradInput : FloatTensor - size: 31x128\n"
       ]
      },
      {
       "metadata": {},
       "output_type": "pyout",
       "prompt_number": 38,
       "text": [
        "          gradBias : FloatTensor - size: 32\n",
        "          train : false\n",
        "          gradWeight : FloatTensor - size: 32x128\n",
        "          output : FloatTensor - size: 26x32\n",
        "          addBuffer : FloatTensor - size: 26\n",
        "        }\n",
        "      5 : \n",
        "        nn.ReLU\n",
        "        {\n",
        "          gradInput : FloatTensor - size: 31x32\n"
       ]
      },
      {
       "metadata": {},
       "output_type": "pyout",
       "prompt_number": 38,
       "text": [
        "          val : 0\n",
        "          train : false\n",
        "          output : FloatTensor - size: 26x32\n",
        "          threshold : 0\n",
        "        }\n",
        "      6 : \n",
        "        nn.Linear(32 -> 3)\n",
        "        {\n",
        "          bias : FloatTensor - size: 3\n",
        "          weight : FloatTensor - size: 3x32\n",
        "          gradInput : FloatTensor - size: 31x32\n",
        "          gradBias : FloatTensor - size: 3\n",
        "          train : false\n",
        "          gradWeight : FloatTensor - size: 3x32\n"
       ]
      },
      {
       "metadata": {},
       "output_type": "pyout",
       "prompt_number": 38,
       "text": [
        "          output : FloatTensor - size: 26x3\n",
        "          addBuffer : FloatTensor - size: 26\n",
        "        }\n",
        "      7 : \n",
        "        nn.LogSoftMax\n",
        "        {\n",
        "          train : false\n",
        "          gradInput : FloatTensor - size: 31x3\n",
        "          output : FloatTensor - size: 26x3\n",
        "        }\n",
        "      8 : \n",
        "        nn.Sum\n",
        "        {\n",
        "          train : false\n",
        "          output : FloatTensor - size: 3\n",
        "          gradInput : FloatTensor - size: 31x3\n",
        "          dimension : 1\n",
        "        }\n",
        "    }\n",
        "}\n",
        "\n"
       ]
      }
     ],
     "prompt_number": 38
    },
    {
     "cell_type": "code",
     "collapsed": false,
     "input": [
      "-- 1\n",
      "-- First Layer\n",
      "print(model:get(1).weight:size())\n",
      "\n",
      "\n",
      "--2 Print the norm first layer\n",
      "print(model:get(1).weight:norm())\n",
      "\n",
      "--3 print the gradient of the weight\n",
      "print(model:get(1).gradWeight:size())\n",
      "\n",
      "--4 norm of the gradient weights\n",
      "print(model:get(1).gradWeight:norm())\n",
      "\n",
      "--5 What happens when we string multiple layers together \n",
      "-- function goes here\n",
      "mulmlp=nn.Sequential()\n",
      "mulmlp:add(nn.Linear(128,64))\n",
      "mulmlp:add(nn.Linear(64,#classes))\n",
      "\n",
      "--6 choice of activation of functions\n",
      "mulmlp=nn.Sequential()\n",
      "mulmlp:add(nn.Linear(128,64))\n",
      "mulmlp:add(nn.Tanh())\n",
      "mulmlp:add(nn.Linear(64,#classes))\n",
      "mulmlp:add(nn.Tanh())\n",
      "\n",
      "--7 Change amount of hidden layer neurons\n",
      "mulmlp=nn.Sequential()\n",
      "mulmlp:add(nn.Linear(128,128))\n",
      "mulmlp:add(nn.Tanh())\n",
      "mulmlp:add(nn.Linear(128,#classes))\n",
      "mulmlp:add(nn.Tanh())\n",
      "\n",
      "--8 Change the number of hidden layers\n",
      "mulmlp=nn.Sequential()\n",
      "mulmlp:add(nn.Linear(128,128))\n",
      "mulmlp:add(nn.Tanh())\n",
      "mulmlp:add(nn.Linear(128,128))\n",
      "mulmlp:add(nn.Tanh())\n",
      "mulmlp:add(nn.Linear(128,#classes))\n",
      "mulmlp:add(nn.Tanh())\n",
      "\n",
      "--9 Change the learning rate\n",
      "-- change optim state \n",
      "\n",
      "--10 Change the weight decay parameter\n",
      "-- change optim state\n",
      "\n",
      "--11 change the momentum\n",
      "-- change optim state\n"
     ],
     "language": "python",
     "metadata": {},
     "outputs": [
      {
       "metadata": {},
       "output_type": "pyout",
       "prompt_number": 41,
       "text": [
        "\n",
        "   128\n",
        " 16384\n",
        "[torch.LongStorage of size 2]\n",
        "\n"
       ]
      },
      {
       "metadata": {},
       "output_type": "pyout",
       "prompt_number": 41,
       "text": [
        "8.1456500421524\t\n",
        "\n",
        "   128\n",
        " 16384\n",
        "[torch.LongStorage of size 2]\n",
        "\n"
       ]
      },
      {
       "metadata": {},
       "output_type": "pyout",
       "prompt_number": 41,
       "text": [
        "0.081458942368249\t\n"
       ]
      }
     ],
     "prompt_number": 41
    },
    {
     "cell_type": "code",
     "collapsed": false,
     "input": [],
     "language": "python",
     "metadata": {},
     "outputs": []
    }
   ],
   "metadata": {}
  }
 ]
}